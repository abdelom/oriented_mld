{
 "cells": [
  {
   "cell_type": "code",
   "execution_count": 111,
   "id": "896b0a92-9a9f-42f5-813b-2334b7415ca3",
   "metadata": {},
   "outputs": [],
   "source": [
    "import pandas as pd\n",
    "iumport numpay as np\n",
    "import collections as cl\n",
    "import itertools as it\n",
    "from detect_breakpoints import *\n",
    "from msprime_simulation import msprime_simulate_variants\n",
    "from classification_breakpoints import class_brkpoints\n",
    "from main import events_counts"
   ]
  },
  {
   "cell_type": "code",
   "execution_count": 163,
   "id": "1d0ae1ba-32ac-4ca9-a426-fc755a0582cd",
   "metadata": {},
   "outputs": [],
   "source": [
    "params = {\"sample_size\": 10, \"Ne\": 1, \"ro\": 8e-6, \"mu\": 8e-4, \"Tau\": 1, \"Kappa\": 10, \"length\": int(1e6)}\n",
    "edges, breakpoints, variants = msprime_simulate_variants(params)\n",
    "th_events = detect_internal_incompatibilities(variants, oriented=True, thresold=50)\n",
    "obs_events = class_brkpoints(edges, breakpoints)\n",
    "data_events = events_counts(variants, obs_events, th_events)"
   ]
  },
  {
   "cell_type": "code",
   "execution_count": 164,
   "id": "67e49d06-6b2d-49b1-b19c-64fc7bf17b3d",
   "metadata": {},
   "outputs": [],
   "source": [
    "nrc_blocks = [(0, 0)] + th_events + [(len(variants) - 1, 0)]\n",
    "nrc_blocks = [(nrc_blocks[i - 1][1], nrc_blocks[i][0]) for i in range(1, len(nrc_blocks))]\n",
    "data_nrc = events_counts(variants, obs_events, nrc_blocks)"
   ]
  },
  {
   "cell_type": "code",
   "execution_count": 165,
   "id": "3d5c3a07-8465-4561-b9f1-cc8e7029c6cc",
   "metadata": {},
   "outputs": [],
   "source": [
    "EVENTS_TYPE = [\"discret\", \"hidden\", \"silent\", \"incompatible\"]\n",
    "detectable_events =  [\"incompatible\", \"discret\"]\n",
    "undetectable_events =  [\"hidden\", \"silent\"]"
   ]
  },
  {
   "cell_type": "code",
   "execution_count": 166,
   "id": "a54cec74-e4bd-4087-ab80-e51815c05121",
   "metadata": {},
   "outputs": [],
   "source": [
    "def complete_data(undetectable, detectable, data):\n",
    "    data.head()\n",
    "    data[\"undetectable\"] = data[undetectable].sum(axis=1)\n",
    "    data[\"detectable\"] = data[detectable].sum(axis=1)\n",
    "    data[\"total\"] = data[\"undetectable\"] + data[\"detectable\"]\n",
    "    return data"
   ]
  },
  {
   "cell_type": "code",
   "execution_count": 167,
   "id": "e0b401c3-0eef-4296-a689-1921e7cd2e62",
   "metadata": {},
   "outputs": [
    {
     "data": {
      "text/plain": [
       "9643.104849446114"
      ]
     },
     "execution_count": 167,
     "metadata": {},
     "output_type": "execute_result"
    }
   ],
   "source": [
    "length_nrc = np.mean([variants[sup].site.position - variants[inf].site.position for inf, sup in  data_nrc.index])\n",
    "length_nrc"
   ]
  },
  {
   "cell_type": "code",
   "execution_count": 168,
   "id": "9b3013f3-b1c9-4f7b-9cb8-33358736db18",
   "metadata": {},
   "outputs": [
    {
     "data": {
      "text/plain": [
       "26.805600902031742"
      ]
     },
     "execution_count": 168,
     "metadata": {},
     "output_type": "execute_result"
    }
   ],
   "source": [
    "length_events = np.mean([variants[sup].site.position - variants[inf].site.position for inf, sup in  data_events.index])\n",
    "length_nrc / length_events"
   ]
  },
  {
   "cell_type": "code",
   "execution_count": 169,
   "id": "cd0e031e-b27b-4c76-b7c2-39e5c6d6c18e",
   "metadata": {},
   "outputs": [],
   "source": [
    "data_nrc = complete_data(undetectable_events, \n",
    "                         detectable_events, \n",
    "                         events_counts(variants, obs_events, nrc_blocks))"
   ]
  },
  {
   "cell_type": "code",
   "execution_count": 170,
   "id": "ce30334c-41c2-49f0-8a57-1d147d9bb5c7",
   "metadata": {},
   "outputs": [],
   "source": [
    "data_events = complete_data(undetectable_events, \n",
    "                            detectable_events, \n",
    "                            events_counts(variants, obs_events, th_events))"
   ]
  },
  {
   "cell_type": "code",
   "execution_count": 171,
   "id": "ef8d9e68-a2ee-405d-a87f-fbfe2349bed3",
   "metadata": {},
   "outputs": [],
   "source": [
    "length_nrc = data_nrc.index"
   ]
  },
  {
   "cell_type": "code",
   "execution_count": 172,
   "id": "527f4027-a36a-41c9-8713-0c85c72823fc",
   "metadata": {},
   "outputs": [
    {
     "data": {
      "text/plain": [
       "8"
      ]
     },
     "execution_count": 172,
     "metadata": {},
     "output_type": "execute_result"
    }
   ],
   "source": [
    "sum(data_events[\"undetectable\"])"
   ]
  },
  {
   "cell_type": "code",
   "execution_count": 173,
   "id": "7b9d6856-7eb4-431a-a43f-d1519a5b3a61",
   "metadata": {},
   "outputs": [
    {
     "data": {
      "text/plain": [
       "99"
      ]
     },
     "execution_count": 173,
     "metadata": {},
     "output_type": "execute_result"
    }
   ],
   "source": [
    "sum(data_events[\"detectable\"])"
   ]
  },
  {
   "cell_type": "code",
   "execution_count": 174,
   "id": "a7d6bd61-9bc3-4ba3-b328-43396a677805",
   "metadata": {},
   "outputs": [
    {
     "data": {
      "text/plain": [
       "277"
      ]
     },
     "execution_count": 174,
     "metadata": {},
     "output_type": "execute_result"
    }
   ],
   "source": [
    "sum(data_nrc[\"undetectable\"])"
   ]
  },
  {
   "cell_type": "code",
   "execution_count": 175,
   "id": "3f95d03b-f18b-4904-91b3-d3d1d981dbb6",
   "metadata": {},
   "outputs": [
    {
     "data": {
      "text/plain": [
       "21"
      ]
     },
     "execution_count": 175,
     "metadata": {},
     "output_type": "execute_result"
    }
   ],
   "source": [
    "sum(data_nrc[\"detectable\"])"
   ]
  },
  {
   "cell_type": "code",
   "execution_count": 54,
   "id": "dce763fa-7d83-4ef5-8379-b8c699aa77b3",
   "metadata": {},
   "outputs": [
    {
     "data": {
      "text/html": [
       "<div>\n",
       "<style scoped>\n",
       "    .dataframe tbody tr th:only-of-type {\n",
       "        vertical-align: middle;\n",
       "    }\n",
       "\n",
       "    .dataframe tbody tr th {\n",
       "        vertical-align: top;\n",
       "    }\n",
       "\n",
       "    .dataframe thead th {\n",
       "        text-align: right;\n",
       "    }\n",
       "</style>\n",
       "<table border=\"1\" class=\"dataframe\">\n",
       "  <thead>\n",
       "    <tr style=\"text-align: right;\">\n",
       "      <th></th>\n",
       "      <th></th>\n",
       "      <th>incompatible</th>\n",
       "      <th>silent</th>\n",
       "      <th>discret</th>\n",
       "      <th>hidden</th>\n",
       "      <th>undetectable</th>\n",
       "      <th>detectable</th>\n",
       "      <th>total</th>\n",
       "    </tr>\n",
       "  </thead>\n",
       "  <tbody>\n",
       "    <tr>\n",
       "      <th>0</th>\n",
       "      <th>3</th>\n",
       "      <td>0</td>\n",
       "      <td>0</td>\n",
       "      <td>0</td>\n",
       "      <td>0</td>\n",
       "      <td>0</td>\n",
       "      <td>0</td>\n",
       "      <td>0</td>\n",
       "    </tr>\n",
       "    <tr>\n",
       "      <th>8</th>\n",
       "      <th>40</th>\n",
       "      <td>4</td>\n",
       "      <td>3</td>\n",
       "      <td>0</td>\n",
       "      <td>0</td>\n",
       "      <td>3</td>\n",
       "      <td>4</td>\n",
       "      <td>7</td>\n",
       "    </tr>\n",
       "    <tr>\n",
       "      <th>41</th>\n",
       "      <th>74</th>\n",
       "      <td>2</td>\n",
       "      <td>3</td>\n",
       "      <td>0</td>\n",
       "      <td>0</td>\n",
       "      <td>3</td>\n",
       "      <td>2</td>\n",
       "      <td>5</td>\n",
       "    </tr>\n",
       "    <tr>\n",
       "      <th>81</th>\n",
       "      <th>82</th>\n",
       "      <td>0</td>\n",
       "      <td>0</td>\n",
       "      <td>0</td>\n",
       "      <td>0</td>\n",
       "      <td>0</td>\n",
       "      <td>0</td>\n",
       "      <td>0</td>\n",
       "    </tr>\n",
       "    <tr>\n",
       "      <th>83</th>\n",
       "      <th>128</th>\n",
       "      <td>2</td>\n",
       "      <td>1</td>\n",
       "      <td>1</td>\n",
       "      <td>0</td>\n",
       "      <td>1</td>\n",
       "      <td>3</td>\n",
       "      <td>4</td>\n",
       "    </tr>\n",
       "  </tbody>\n",
       "</table>\n",
       "</div>"
      ],
      "text/plain": [
       "        incompatible  silent  discret  hidden  undetectable  detectable  total\n",
       "0  3               0       0        0       0             0           0      0\n",
       "8  40              4       3        0       0             3           4      7\n",
       "41 74              2       3        0       0             3           2      5\n",
       "81 82              0       0        0       0             0           0      0\n",
       "83 128             2       1        1       0             1           3      4"
      ]
     },
     "execution_count": 54,
     "metadata": {},
     "output_type": "execute_result"
    }
   ],
   "source": [
    "data_nrc.head()"
   ]
  },
  {
   "cell_type": "code",
   "execution_count": 55,
   "id": "f070be5b-7ed3-4fc3-85fe-0a2ec0cf71a2",
   "metadata": {},
   "outputs": [
    {
     "data": {
      "text/html": [
       "<div>\n",
       "<style scoped>\n",
       "    .dataframe tbody tr th:only-of-type {\n",
       "        vertical-align: middle;\n",
       "    }\n",
       "\n",
       "    .dataframe tbody tr th {\n",
       "        vertical-align: top;\n",
       "    }\n",
       "\n",
       "    .dataframe thead th {\n",
       "        text-align: right;\n",
       "    }\n",
       "</style>\n",
       "<table border=\"1\" class=\"dataframe\">\n",
       "  <thead>\n",
       "    <tr style=\"text-align: right;\">\n",
       "      <th></th>\n",
       "      <th></th>\n",
       "      <th>incompatible</th>\n",
       "      <th>silent</th>\n",
       "      <th>discret</th>\n",
       "      <th>hidden</th>\n",
       "      <th>undetectable</th>\n",
       "      <th>detectable</th>\n",
       "      <th>total</th>\n",
       "    </tr>\n",
       "  </thead>\n",
       "  <tbody>\n",
       "    <tr>\n",
       "      <th>23</th>\n",
       "      <th>24</th>\n",
       "      <td>2</td>\n",
       "      <td>0</td>\n",
       "      <td>0</td>\n",
       "      <td>0</td>\n",
       "      <td>0</td>\n",
       "      <td>2</td>\n",
       "      <td>2</td>\n",
       "    </tr>\n",
       "    <tr>\n",
       "      <th>37</th>\n",
       "      <th>40</th>\n",
       "      <td>1</td>\n",
       "      <td>0</td>\n",
       "      <td>0</td>\n",
       "      <td>0</td>\n",
       "      <td>0</td>\n",
       "      <td>1</td>\n",
       "      <td>1</td>\n",
       "    </tr>\n",
       "    <tr>\n",
       "      <th>45</th>\n",
       "      <th>47</th>\n",
       "      <td>0</td>\n",
       "      <td>0</td>\n",
       "      <td>0</td>\n",
       "      <td>0</td>\n",
       "      <td>0</td>\n",
       "      <td>0</td>\n",
       "      <td>0</td>\n",
       "    </tr>\n",
       "    <tr>\n",
       "      <th>73</th>\n",
       "      <th>75</th>\n",
       "      <td>1</td>\n",
       "      <td>0</td>\n",
       "      <td>0</td>\n",
       "      <td>0</td>\n",
       "      <td>0</td>\n",
       "      <td>1</td>\n",
       "      <td>1</td>\n",
       "    </tr>\n",
       "    <tr>\n",
       "      <th>77</th>\n",
       "      <th>78</th>\n",
       "      <td>1</td>\n",
       "      <td>0</td>\n",
       "      <td>0</td>\n",
       "      <td>0</td>\n",
       "      <td>0</td>\n",
       "      <td>1</td>\n",
       "      <td>1</td>\n",
       "    </tr>\n",
       "  </tbody>\n",
       "</table>\n",
       "</div>"
      ],
      "text/plain": [
       "       incompatible  silent  discret  hidden  undetectable  detectable  total\n",
       "23 24             2       0        0       0             0           2      2\n",
       "37 40             1       0        0       0             0           1      1\n",
       "45 47             0       0        0       0             0           0      0\n",
       "73 75             1       0        0       0             0           1      1\n",
       "77 78             1       0        0       0             0           1      1"
      ]
     },
     "execution_count": 55,
     "metadata": {},
     "output_type": "execute_result"
    }
   ],
   "source": [
    "data_events.head()"
   ]
  },
  {
   "cell_type": "code",
   "execution_count": null,
   "id": "01c46ce3-a0d8-4b67-962b-29ae1499841c",
   "metadata": {},
   "outputs": [],
   "source": []
  }
 ],
 "metadata": {
  "kernelspec": {
   "display_name": "Python 3 (ipykernel)",
   "language": "python",
   "name": "python3"
  },
  "language_info": {
   "codemirror_mode": {
    "name": "ipython",
    "version": 3
   },
   "file_extension": ".py",
   "mimetype": "text/x-python",
   "name": "python",
   "nbconvert_exporter": "python",
   "pygments_lexer": "ipython3",
   "version": "3.9.5"
  }
 },
 "nbformat": 4,
 "nbformat_minor": 5
}
